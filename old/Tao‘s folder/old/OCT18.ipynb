{
 "cells": [
  {
   "cell_type": "code",
   "execution_count": 1,
   "metadata": {},
   "outputs": [],
   "source": [
    "# Useful starting lines\n",
    "%matplotlib inline\n",
    "import numpy as np\n",
    "import matplotlib.pyplot as plt\n",
    "%load_ext autoreload\n",
    "%autoreload 2"
   ]
  },
  {
   "cell_type": "code",
   "execution_count": 2,
   "metadata": {},
   "outputs": [],
   "source": [
    "from proj1_helpers import *\n",
    "from implementations import *"
   ]
  },
  {
   "cell_type": "code",
   "execution_count": 3,
   "metadata": {},
   "outputs": [],
   "source": [
    "def standardize(x, mean_x=None, std_x=None):\n",
    "    \"\"\"Standardize the original data set.\"\"\"\n",
    "    if mean_x is None:\n",
    "        mean_x = np.nanmean(x, axis=0)\n",
    "    if std_x is None:\n",
    "        std_x = np.nanstd(x, axis=0)\n",
    "    x = x - mean_x\n",
    "    x = x / std_x\n",
    "    return x, mean_x, std_x\n",
    "\n",
    "def build_poly(x, degree):\n",
    "    \"\"\"polynomial basis functions for input data x, for j=0 up to j=degree.\"\"\"\n",
    "    poly = np.ones((len(x), 1))\n",
    "    for deg in range(1, degree+1):\n",
    "        poly = np.c_[poly, np.power(x, deg)]\n",
    "    return poly\n",
    "\n",
    "def split_data(x, y, ratio, myseed=1):\n",
    "    \"\"\"split the dataset based on the split ratio.\"\"\"\n",
    "    # set seed\n",
    "    np.random.seed(myseed)\n",
    "    # generate random indices\n",
    "    num_row = len(y)\n",
    "    indices = np.random.permutation(num_row)\n",
    "    index_split = int(np.floor(ratio * num_row))\n",
    "    index_tr = indices[: index_split]\n",
    "    index_te = indices[index_split:]\n",
    "    # create split\n",
    "    x_tr = x[index_tr]\n",
    "    x_te = x[index_te]\n",
    "    y_tr = y[index_tr]\n",
    "    y_te = y[index_te]\n",
    "    return x_tr, x_te, y_tr, y_te"
   ]
  },
  {
   "cell_type": "code",
   "execution_count": 4,
   "metadata": {},
   "outputs": [],
   "source": [
    "def accuracy(y_pred, y_true):\n",
    "    return (y_pred == y_true).sum()/len(y_true)"
   ]
  },
  {
   "cell_type": "code",
   "execution_count": 5,
   "metadata": {},
   "outputs": [],
   "source": [
    "# data path\n",
    "train_data_path = \"../data/train.csv\"\n",
    "test_data_path = \"../data/test.csv\"\n",
    "\n",
    "# load training and test set\n",
    "y_train_data, x_train_data, id_train_data = load_csv_data(train_data_path)\n",
    "y_test_data, x_test_data, id_test_data = load_csv_data(test_data_path)"
   ]
  },
  {
   "cell_type": "code",
   "execution_count": 6,
   "metadata": {},
   "outputs": [],
   "source": [
    "long_tail = [0, 1, 2, 3, 5, 8, 9, 10, 13, 16, 19, 21, 23, 26, 29]"
   ]
  },
  {
   "cell_type": "code",
   "execution_count": 7,
   "metadata": {},
   "outputs": [],
   "source": [
    "jet0_drop = [4, 5, 6, 12, 22, 23, 24, 25, 26, 27, 28, 29]\n",
    "jet1_drop = [4, 5, 6, 12, 22, 26, 27, 28]\n",
    "jet2_drop = [22]\n",
    "jet3_drop = [22]"
   ]
  },
  {
   "cell_type": "code",
   "execution_count": 8,
   "metadata": {},
   "outputs": [],
   "source": [
    "jet0_index = np.where(x_train_data[:,22]==0)[0]\n",
    "jet1_index = np.where(x_train_data[:,22]==1)[0]\n",
    "jet2_index = np.where(x_train_data[:,22]==2)[0]\n",
    "jet3_index = np.where(x_train_data[:,22]==3)[0]"
   ]
  },
  {
   "cell_type": "code",
   "execution_count": 9,
   "metadata": {},
   "outputs": [],
   "source": [
    "zero_col = x_train_data[:, 0:1].copy()\n",
    "other_col = x_train_data[:, 1:].copy()\n",
    "other_col[other_col == -999] = np.nan\n",
    "\n",
    "x_train_data = np.hstack((zero_col, other_col))"
   ]
  },
  {
   "cell_type": "code",
   "execution_count": 10,
   "metadata": {},
   "outputs": [
    {
     "data": {
      "text/plain": [
       "(250000, 30)"
      ]
     },
     "execution_count": 10,
     "metadata": {},
     "output_type": "execute_result"
    }
   ],
   "source": [
    "x_train_data.shape"
   ]
  },
  {
   "cell_type": "code",
   "execution_count": 11,
   "metadata": {},
   "outputs": [
    {
     "name": "stderr",
     "output_type": "stream",
     "text": [
      "/Users/suntao/anaconda3/lib/python3.6/site-packages/ipykernel_launcher.py:1: RuntimeWarning: invalid value encountered in log1p\n",
      "  \"\"\"Entry point for launching an IPython kernel.\n"
     ]
    }
   ],
   "source": [
    "x_train_data[:, long_tail] = np.log1p(x_train_data[:, long_tail])"
   ]
  },
  {
   "cell_type": "code",
   "execution_count": 12,
   "metadata": {},
   "outputs": [],
   "source": [
    "mean = np.nanmean(x_train_data, 0)\n",
    "std = np.nanstd(x_train_data, 0)"
   ]
  },
  {
   "cell_type": "code",
   "execution_count": 13,
   "metadata": {},
   "outputs": [],
   "source": [
    "x_train_data -= mean\n",
    "x_train_data /= std"
   ]
  },
  {
   "cell_type": "code",
   "execution_count": 14,
   "metadata": {},
   "outputs": [],
   "source": [
    "x_train_data = np.nan_to_num(x_train_data)"
   ]
  },
  {
   "cell_type": "code",
   "execution_count": 15,
   "metadata": {},
   "outputs": [],
   "source": [
    "x_jet0 = np.delete(x_train_data[jet0_index, :], jet0_drop, axis=1)\n",
    "x_jet1 = np.delete(x_train_data[jet1_index, :], jet1_drop, axis=1)\n",
    "x_jet2 = np.delete(x_train_data[jet2_index, :], jet2_drop, axis=1)\n",
    "x_jet3 = np.delete(x_train_data[jet3_index, :], jet3_drop, axis=1)"
   ]
  },
  {
   "cell_type": "code",
   "execution_count": 16,
   "metadata": {},
   "outputs": [
    {
     "data": {
      "text/plain": [
       "((99913, 18), (77544, 22), (50379, 29), (22164, 29))"
      ]
     },
     "execution_count": 16,
     "metadata": {},
     "output_type": "execute_result"
    }
   ],
   "source": [
    "x_jet0.shape, x_jet1.shape, x_jet2.shape, x_jet3.shape"
   ]
  },
  {
   "cell_type": "code",
   "execution_count": 17,
   "metadata": {},
   "outputs": [],
   "source": [
    "y_jet0 = y_train_data[jet0_index]\n",
    "y_jet1 = y_train_data[jet1_index]\n",
    "y_jet2 = y_train_data[jet2_index]\n",
    "y_jet3 = y_train_data[jet3_index]"
   ]
  },
  {
   "cell_type": "code",
   "execution_count": 18,
   "metadata": {},
   "outputs": [],
   "source": [
    "def build_poly(x, degree):\n",
    "    \"\"\"polynomial basis functions for input data x, for j=0 up to j=degree.\"\"\"\n",
    "    poly = np.ones((len(x), 1))\n",
    "    for deg in range(1, degree+1):\n",
    "        poly = np.c_[poly, np.power(x, deg)]\n",
    "    return poly"
   ]
  },
  {
   "cell_type": "code",
   "execution_count": 24,
   "metadata": {},
   "outputs": [
    {
     "name": "stderr",
     "output_type": "stream",
     "text": [
      "/Users/suntao/anaconda3/lib/python3.6/site-packages/ipykernel_launcher.py:4: RuntimeWarning: invalid value encountered in true_divide\n",
      "  after removing the cwd from sys.path.\n"
     ]
    }
   ],
   "source": [
    "tx_jet0 = build_poly(x_jet0, 15)\n",
    "tx_jet0_mean, tx_jet0_std = tx_jet0.mean(0), tx_jet0.std(0)\n",
    "tx_jet0 -= tx_jet0_mean\n",
    "tx_jet0 /= tx_jet0_std\n",
    "tx_jet0[:, 0] = 1"
   ]
  },
  {
   "cell_type": "code",
   "execution_count": 25,
   "metadata": {},
   "outputs": [
    {
     "name": "stderr",
     "output_type": "stream",
     "text": [
      "/Users/suntao/anaconda3/lib/python3.6/site-packages/ipykernel_launcher.py:4: RuntimeWarning: invalid value encountered in true_divide\n",
      "  after removing the cwd from sys.path.\n",
      "/Users/suntao/anaconda3/lib/python3.6/site-packages/ipykernel_launcher.py:10: RuntimeWarning: invalid value encountered in true_divide\n",
      "  # Remove the CWD from sys.path while we load stuff.\n",
      "/Users/suntao/anaconda3/lib/python3.6/site-packages/ipykernel_launcher.py:16: RuntimeWarning: invalid value encountered in true_divide\n",
      "  app.launch_new_instance()\n"
     ]
    }
   ],
   "source": [
    "tx_jet1 = build_poly(x_jet1, 15)\n",
    "tx_jet1_mean, tx_jet1_std = tx_jet1.mean(0), tx_jet1.std(0)\n",
    "tx_jet1 -= tx_jet1_mean\n",
    "tx_jet1 /= tx_jet1_std\n",
    "tx_jet1[:, 0] = 1\n",
    "\n",
    "tx_jet2 = build_poly(x_jet2, 15)\n",
    "tx_jet2_mean, tx_jet2_std = tx_jet2.mean(0), tx_jet2.std(0)\n",
    "tx_jet2 -= tx_jet2_mean\n",
    "tx_jet2 /= tx_jet2_std\n",
    "tx_jet2[:, 0] = 1\n",
    "\n",
    "tx_jet3 = build_poly(x_jet3, 15)\n",
    "tx_jet3_mean, tx_jet3_std = tx_jet3.mean(0), tx_jet3.std(0)\n",
    "tx_jet3 -= tx_jet3_mean\n",
    "tx_jet3 /= tx_jet3_std\n",
    "tx_jet3[:, 0] = 1"
   ]
  },
  {
   "cell_type": "markdown",
   "metadata": {},
   "source": [
    "## Model"
   ]
  },
  {
   "cell_type": "code",
   "execution_count": 26,
   "metadata": {},
   "outputs": [],
   "source": [
    "lambda_ = 0.001\n",
    "w_jet0, _ = ridge_regression(y_jet0, tx_jet0, lambda_)\n",
    "w_jet1, _ = ridge_regression(y_jet1, tx_jet1, lambda_)\n",
    "w_jet2, _ = ridge_regression(y_jet2, tx_jet2, lambda_)\n",
    "w_jet3, _ = ridge_regression(y_jet3, tx_jet3, lambda_)"
   ]
  },
  {
   "cell_type": "code",
   "execution_count": 27,
   "metadata": {},
   "outputs": [],
   "source": [
    "y_pred = np.zeros_like(y_train_data)\n",
    "y_pred[jet0_index] = predict_labels(w_jet0, tx_jet0)\n",
    "y_pred[jet1_index] = predict_labels(w_jet1, tx_jet1)\n",
    "y_pred[jet2_index] = predict_labels(w_jet2, tx_jet2)\n",
    "y_pred[jet3_index] = predict_labels(w_jet3, tx_jet3)"
   ]
  },
  {
   "cell_type": "code",
   "execution_count": 28,
   "metadata": {},
   "outputs": [
    {
     "data": {
      "text/plain": [
       "0.82316800000000001"
      ]
     },
     "execution_count": 28,
     "metadata": {},
     "output_type": "execute_result"
    }
   ],
   "source": [
    "accuracy(y_pred, y_train_data)"
   ]
  },
  {
   "cell_type": "markdown",
   "metadata": {},
   "source": [
    "## Predict"
   ]
  },
  {
   "cell_type": "code",
   "execution_count": 29,
   "metadata": {},
   "outputs": [
    {
     "name": "stderr",
     "output_type": "stream",
     "text": [
      "/Users/suntao/anaconda3/lib/python3.6/site-packages/ipykernel_launcher.py:14: RuntimeWarning: invalid value encountered in log1p\n",
      "  \n",
      "/Users/suntao/anaconda3/lib/python3.6/site-packages/ipykernel_launcher.py:32: RuntimeWarning: invalid value encountered in true_divide\n",
      "/Users/suntao/anaconda3/lib/python3.6/site-packages/ipykernel_launcher.py:36: RuntimeWarning: invalid value encountered in true_divide\n",
      "/Users/suntao/anaconda3/lib/python3.6/site-packages/ipykernel_launcher.py:40: RuntimeWarning: invalid value encountered in true_divide\n",
      "/Users/suntao/anaconda3/lib/python3.6/site-packages/ipykernel_launcher.py:44: RuntimeWarning: invalid value encountered in true_divide\n"
     ]
    }
   ],
   "source": [
    "jet0_index = np.where(x_test_data[:,22]==0)[0]\n",
    "jet1_index = np.where(x_test_data[:,22]==1)[0]\n",
    "jet2_index = np.where(x_test_data[:,22]==2)[0]\n",
    "jet3_index = np.where(x_test_data[:,22]==3)[0]\n",
    "\n",
    "# x_test_data[x_test_data==-999] = np.nan\n",
    "\n",
    "zero_col = x_test_data[:, 0:1].copy()\n",
    "other_col = x_test_data[:, 1:].copy()\n",
    "other_col[other_col == -999] = np.nan\n",
    "\n",
    "x_test_data = np.hstack((zero_col, other_col))\n",
    "\n",
    "x_test_data[:, long_tail] = np.log1p(x_test_data[:, long_tail])\n",
    "\n",
    "x_test_data -= mean\n",
    "x_test_data /= std\n",
    "\n",
    "x_test_data = np.nan_to_num(x_test_data)\n",
    "\n",
    "x_jet0 = np.delete(x_test_data[jet0_index, :], jet0_drop, axis=1)\n",
    "x_jet1 = np.delete(x_test_data[jet1_index, :], jet1_drop, axis=1)\n",
    "x_jet2 = np.delete(x_test_data[jet2_index, :], jet2_drop, axis=1)\n",
    "x_jet3 = np.delete(x_test_data[jet3_index, :], jet3_drop, axis=1)\n",
    "\n",
    "tx_jet0 = build_poly(x_jet0, 15)\n",
    "tx_jet1 = build_poly(x_jet1, 15)\n",
    "tx_jet2 = build_poly(x_jet2, 15)\n",
    "tx_jet3 = build_poly(x_jet3, 15)\n",
    "\n",
    "tx_jet0 -= tx_jet0_mean\n",
    "tx_jet0 /= tx_jet0_std\n",
    "tx_jet0[:, 0] = 1\n",
    "\n",
    "tx_jet1 -= tx_jet1_mean\n",
    "tx_jet1 /= tx_jet1_std\n",
    "tx_jet1[:, 0] = 1\n",
    "\n",
    "tx_jet2 -= tx_jet2_mean\n",
    "tx_jet2 /= tx_jet2_std\n",
    "tx_jet2[:, 0] = 1\n",
    "\n",
    "tx_jet3 -= tx_jet3_mean\n",
    "tx_jet3 /= tx_jet3_std\n",
    "tx_jet3[:, 0] = 1\n",
    "\n",
    "y_pred = np.zeros(len(x_test_data))\n",
    "y_pred[jet0_index] = predict_labels(w_jet0, tx_jet0)\n",
    "y_pred[jet1_index] = predict_labels(w_jet1, tx_jet1)\n",
    "y_pred[jet2_index] = predict_labels(w_jet2, tx_jet2)\n",
    "y_pred[jet3_index] = predict_labels(w_jet3, tx_jet3)"
   ]
  },
  {
   "cell_type": "code",
   "execution_count": 30,
   "metadata": {},
   "outputs": [],
   "source": [
    "create_csv_submission(id_test_data, y_pred, \"OCT18_norm_after_poly\")"
   ]
  },
  {
   "cell_type": "code",
   "execution_count": null,
   "metadata": {},
   "outputs": [],
   "source": []
  }
 ],
 "metadata": {
  "kernelspec": {
   "display_name": "Python 3",
   "language": "python",
   "name": "python3"
  },
  "language_info": {
   "codemirror_mode": {
    "name": "ipython",
    "version": 3
   },
   "file_extension": ".py",
   "mimetype": "text/x-python",
   "name": "python",
   "nbconvert_exporter": "python",
   "pygments_lexer": "ipython3",
   "version": "3.6.4"
  }
 },
 "nbformat": 4,
 "nbformat_minor": 2
}
