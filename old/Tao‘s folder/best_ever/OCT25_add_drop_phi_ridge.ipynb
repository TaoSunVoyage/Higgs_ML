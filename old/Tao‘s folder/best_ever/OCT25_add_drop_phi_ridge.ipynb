{
 "cells": [
  {
   "cell_type": "code",
   "execution_count": 1,
   "metadata": {},
   "outputs": [],
   "source": [
    "import pandas as pd\n",
    "import numpy as np\n",
    "# set seed\n",
    "seed = 12\n",
    "np.random.seed(12)\n",
    "np.seterr(all='ignore')\n",
    "\n",
    "import matplotlib.pyplot as plt\n",
    "%matplotlib inline\n",
    "\n",
    "from proj1_helpers import *\n",
    "from implementations import *\n",
    "from helpers import *\n",
    "\n",
    "%load_ext autoreload\n",
    "%autoreload 2"
   ]
  },
  {
   "cell_type": "code",
   "execution_count": 2,
   "metadata": {},
   "outputs": [],
   "source": [
    "# data path\n",
    "train_data_path = \"../data/train.csv\"\n",
    "test_data_path = \"../data/test.csv\"\n",
    "\n",
    "# load training and test set\n",
    "y_train_raw, x_train_raw, id_train = load_csv_data(train_data_path)\n",
    "y_test_raw, x_test_raw, id_test = load_csv_data(test_data_path)"
   ]
  },
  {
   "cell_type": "code",
   "execution_count": 3,
   "metadata": {},
   "outputs": [],
   "source": [
    "y_train = np.copy(y_train_raw)\n",
    "x_train = np.copy(x_train_raw)\n",
    "x_test = np.copy(x_test_raw)\n",
    "y_test = np.copy(y_test_raw)"
   ]
  },
  {
   "cell_type": "code",
   "execution_count": 4,
   "metadata": {},
   "outputs": [],
   "source": [
    "# get jet index of three groups\n",
    "jet_index_train = get_jet_index(x_train)\n",
    "jet_index_test = get_jet_index(x_test)"
   ]
  },
  {
   "cell_type": "code",
   "execution_count": 5,
   "metadata": {},
   "outputs": [],
   "source": [
    "def accuracy(y_true, y_pred):\n",
    "    return np.sum(y_pred==y_true) / len(y_true)\n",
    "\n",
    "def build_k_indices(y, k_fold, seed):\n",
    "    \"\"\"build k indices for k-fold.\"\"\"\n",
    "    num_row = y.shape[0]\n",
    "    interval = int(num_row / k_fold)\n",
    "    np.random.seed(seed)\n",
    "    indices = np.random.permutation(num_row)\n",
    "    k_indices = [indices[k * interval: (k + 1) * interval] for k in range(k_fold)]\n",
    "    return np.array(k_indices)\n",
    "\n",
    "def cross_validation(y, x, k_indices, k, lambda_, degree):\n",
    "    \"\"\"return the loss of ridge regression.\"\"\"\n",
    "    # get k'th subgroup in test, others in train\n",
    "    te_indice = k_indices[k]\n",
    "    tr_indice = k_indices[~(np.arange(k_indices.shape[0]) == k)]\n",
    "    tr_indice = tr_indice.reshape(-1)\n",
    "    y_te = y[te_indice]\n",
    "    y_tr = y[tr_indice]\n",
    "    x_te = x[te_indice]\n",
    "    x_tr = x[tr_indice]\n",
    "    \n",
    "    x_tr, x_te = preprocessing(x_tr, x_te)    \n",
    "    y_pd_tr, y_pd_te = train_predict(x_tr, y_tr, x_te, y_te, degree, lambda_)\n",
    "    \n",
    "    return accuracy(y_tr, y_pd_tr), accuracy(y_te, y_pd_te)"
   ]
  },
  {
   "cell_type": "markdown",
   "metadata": {},
   "source": [
    "## group 0 degree=15, lambda_=1e-6"
   ]
  },
  {
   "cell_type": "code",
   "execution_count": 71,
   "metadata": {},
   "outputs": [],
   "source": [
    "i = 0\n",
    "y_train_i = y_train[jet_index_train[i]]\n",
    "x_train_i = x_train[jet_index_train[i]]"
   ]
  },
  {
   "cell_type": "code",
   "execution_count": 136,
   "metadata": {
    "scrolled": true
   },
   "outputs": [
    {
     "name": "stderr",
     "output_type": "stream",
     "text": [
      "C:\\Users\\tsun1\\AppData\\Local\\Continuum\\anaconda3\\lib\\site-packages\\numpy\\lib\\nanfunctions.py:1434: RuntimeWarning: Degrees of freedom <= 0 for slice.\n",
      "  keepdims=keepdims)\n"
     ]
    },
    {
     "name": "stdout",
     "output_type": "stream",
     "text": [
      "10 0.8462266039435493 0.8453007706936244\n",
      "11 0.8471199079171254 0.8459613652287057\n",
      "12 0.8470848763887497 0.8459913922530278\n",
      "13 0.8476128515664098 0.8464618156340705\n",
      "14 0.8475778200380344 0.8466920228205386\n",
      "15 0.847865579021119 0.8466820138124312\n",
      "16 0.8479256330697627 0.8467020318286458\n",
      "17 0.8478755880292264 0.8466219597637874\n",
      "18 0.8476528875988389 0.8464117705935342\n",
      "19 0.8410169152237014 0.8398658792913622\n",
      "20 0.8248648783905516 0.8246722049844861\n"
     ]
    }
   ],
   "source": [
    "# DEGREE\n",
    "degrees = range(10, 21)\n",
    "k_fold = 5\n",
    "lambda_ = 1e-3\n",
    "# split data in k fold\n",
    "k_indices = build_k_indices(y_train_i, k_fold, seed)\n",
    "# define lists to store the accuracy of training data and validation data\n",
    "acc_tr_list = []\n",
    "acc_te_list = []\n",
    "# cross validation\n",
    "for degree in degrees:\n",
    "    acc_tr_tmp = []\n",
    "    acc_te_tmp = []\n",
    "    for k in range(k_fold):\n",
    "        acc_tr, acc_te = cross_validation(y_train_i, x_train_i, k_indices, k, lambda_, degree)\n",
    "        acc_tr_tmp.append(acc_tr)\n",
    "        acc_te_tmp.append(acc_te)\n",
    "    print(degree, np.mean(acc_tr_tmp), np.mean(acc_te_tmp))\n",
    "    \n",
    "    acc_tr_list.append(np.mean(acc_tr_tmp))\n",
    "    acc_te_list.append(np.mean(acc_te_tmp))"
   ]
  },
  {
   "cell_type": "code",
   "execution_count": 137,
   "metadata": {},
   "outputs": [
    {
     "name": "stderr",
     "output_type": "stream",
     "text": [
      "C:\\Users\\tsun1\\AppData\\Local\\Continuum\\anaconda3\\lib\\site-packages\\numpy\\lib\\nanfunctions.py:1434: RuntimeWarning: Degrees of freedom <= 0 for slice.\n",
      "  keepdims=keepdims)\n"
     ]
    },
    {
     "name": "stdout",
     "output_type": "stream",
     "text": [
      "0 0.8387498748873987 0.8370933840456412\n",
      "1e-07 0.8141327194475027 0.8125613051746573\n",
      "1e-06 0.849131718546692 0.8480332299069163\n",
      "1e-05 0.8484285857271544 0.847222500250225\n",
      "0.0001 0.8485036532879591 0.8470723651286157\n",
      "0.001 0.847865579021119 0.8466820138124312\n",
      "0.01 0.8458612751476329 0.8452807526774097\n"
     ]
    }
   ],
   "source": [
    "# LAMBDA\n",
    "degree = 15\n",
    "k_fold = 5\n",
    "lambdas = [0, 1e-7, 1e-6, 1e-5, 1e-4, 1e-3, 1e-2]\n",
    "# split data in k fold\n",
    "k_indices = build_k_indices(y_train_i, k_fold, seed)\n",
    "# define lists to store the accuracy of training data and validation data\n",
    "acc_tr_list = []\n",
    "acc_te_list = []\n",
    "# cross validation\n",
    "for lambda_ in lambdas:\n",
    "    acc_tr_tmp = []\n",
    "    acc_te_tmp = []\n",
    "    for k in range(k_fold):\n",
    "        acc_tr, acc_te = cross_validation(y_train_i, x_train_i, k_indices, k, lambda_, degree)\n",
    "        acc_tr_tmp.append(acc_tr)\n",
    "        acc_te_tmp.append(acc_te)\n",
    "    print(lambda_, np.mean(acc_tr_tmp), np.mean(acc_te_tmp))\n",
    "    \n",
    "    acc_tr_list.append(np.mean(acc_tr_tmp))\n",
    "    acc_te_list.append(np.mean(acc_te_tmp))"
   ]
  },
  {
   "cell_type": "markdown",
   "metadata": {},
   "source": [
    "## group 1 degree=19, lambda_=1e-4"
   ]
  },
  {
   "cell_type": "code",
   "execution_count": 138,
   "metadata": {},
   "outputs": [],
   "source": [
    "i = 1\n",
    "y_train_i = y_train[jet_index_train[i]]\n",
    "x_train_i = x_train[jet_index_train[i]]"
   ]
  },
  {
   "cell_type": "code",
   "execution_count": 139,
   "metadata": {},
   "outputs": [
    {
     "name": "stderr",
     "output_type": "stream",
     "text": [
      "C:\\Users\\tsun1\\AppData\\Local\\Continuum\\anaconda3\\lib\\site-packages\\numpy\\lib\\nanfunctions.py:1434: RuntimeWarning: Degrees of freedom <= 0 for slice.\n",
      "  keepdims=keepdims)\n"
     ]
    },
    {
     "name": "stdout",
     "output_type": "stream",
     "text": [
      "10 0.8118422749548619 0.8098400825380448\n",
      "11 0.8134898117100852 0.811310291462471\n",
      "12 0.8141862264637606 0.8115037400051586\n",
      "13 0.8148117100851173 0.811942223368584\n",
      "14 0.8149438999226206 0.8128320866649471\n",
      "15 0.8153598142893991 0.8129352592210471\n",
      "16 0.8152695383028113 0.8129094660820222\n",
      "17 0.8153662625741553 0.8126515346917721\n",
      "18 0.8119905855042558 0.8090920815063193\n",
      "19 0.8156080732525147 0.813283466597885\n",
      "20 0.8152856590147021 0.8124967758576218\n"
     ]
    }
   ],
   "source": [
    "# DEGREE\n",
    "degrees = range(10, 21)\n",
    "k_fold = 5\n",
    "lambda_ = 1e-3\n",
    "# split data in k fold\n",
    "k_indices = build_k_indices(y_train_i, k_fold, seed)\n",
    "# define lists to store the accuracy of training data and validation data\n",
    "acc_tr_list = []\n",
    "acc_te_list = []\n",
    "# cross validation\n",
    "for degree in degrees:\n",
    "    acc_tr_tmp = []\n",
    "    acc_te_tmp = []\n",
    "    for k in range(k_fold):\n",
    "        acc_tr, acc_te = cross_validation(y_train_i, x_train_i, k_indices, k, lambda_, degree)\n",
    "        acc_tr_tmp.append(acc_tr)\n",
    "        acc_te_tmp.append(acc_te)\n",
    "    print(degree, np.mean(acc_tr_tmp), np.mean(acc_te_tmp))\n",
    "    \n",
    "    acc_tr_list.append(np.mean(acc_tr_tmp))\n",
    "    acc_te_list.append(np.mean(acc_te_tmp))"
   ]
  },
  {
   "cell_type": "code",
   "execution_count": 140,
   "metadata": {},
   "outputs": [
    {
     "name": "stderr",
     "output_type": "stream",
     "text": [
      "C:\\Users\\tsun1\\AppData\\Local\\Continuum\\anaconda3\\lib\\site-packages\\numpy\\lib\\nanfunctions.py:1434: RuntimeWarning: Degrees of freedom <= 0 for slice.\n",
      "  keepdims=keepdims)\n"
     ]
    },
    {
     "name": "stdout",
     "output_type": "stream",
     "text": [
      "0 0.7490714469950993 0.7475238586535982\n",
      "1e-07 0.8160562290430746 0.8123936033015218\n",
      "1e-06 0.8161336084601496 0.8129223626515347\n",
      "1e-05 0.8161110394635026 0.81325767345886\n",
      "0.0001 0.8159756254836212 0.813438225432035\n",
      "0.001 0.8156080732525147 0.813283466597885\n",
      "0.01 0.8123452411658498 0.8084601496002064\n"
     ]
    }
   ],
   "source": [
    "# LAMBDA\n",
    "degree = 19\n",
    "k_fold = 5\n",
    "lambdas = [0, 1e-7, 1e-6, 1e-5, 1e-4, 1e-3, 1e-2]\n",
    "# split data in k fold\n",
    "k_indices = build_k_indices(y_train_i, k_fold, seed)\n",
    "# define lists to store the accuracy of training data and validation data\n",
    "acc_tr_list = []\n",
    "acc_te_list = []\n",
    "# cross validation\n",
    "for lambda_ in lambdas:\n",
    "    acc_tr_tmp = []\n",
    "    acc_te_tmp = []\n",
    "    for k in range(k_fold):\n",
    "        acc_tr, acc_te = cross_validation(y_train_i, x_train_i, k_indices, k, lambda_, degree)\n",
    "        acc_tr_tmp.append(acc_tr)\n",
    "        acc_te_tmp.append(acc_te)\n",
    "    print(lambda_, np.mean(acc_tr_tmp), np.mean(acc_te_tmp))\n",
    "    \n",
    "    acc_tr_list.append(np.mean(acc_tr_tmp))\n",
    "    acc_te_list.append(np.mean(acc_te_tmp))"
   ]
  },
  {
   "cell_type": "markdown",
   "metadata": {},
   "source": [
    " ## group 2 degree=14, lambda_=1e-6"
   ]
  },
  {
   "cell_type": "code",
   "execution_count": 142,
   "metadata": {},
   "outputs": [],
   "source": [
    "i = 2\n",
    "y_train_i = y_train[jet_index_train[i]]\n",
    "x_train_i = x_train[jet_index_train[i]]"
   ]
  },
  {
   "cell_type": "code",
   "execution_count": 143,
   "metadata": {},
   "outputs": [
    {
     "name": "stdout",
     "output_type": "stream",
     "text": [
      "10 0.8464915908464296 0.8418665563826855\n",
      "11 0.8474186655638268 0.843038323683485\n",
      "12 0.8483078301626688 0.8441687344913152\n",
      "13 0.8487007168458781 0.8444858009374139\n",
      "14 0.8490591397849462 0.8445547284256962\n",
      "15 0.8493968844775296 0.8448993658671078\n",
      "16 0.8489178384339675 0.844582299421009\n",
      "17 0.8496967190515579 0.8451475048249242\n",
      "18 0.8495726495726496 0.8445960849186654\n",
      "19 0.8492900468706921 0.8451475048249242\n",
      "20 0.8483354011579817 0.8438930245381858\n"
     ]
    }
   ],
   "source": [
    "# DEGREE\n",
    "degrees = range(10, 21)\n",
    "k_fold = 5\n",
    "lambda_ = 1e-3\n",
    "# split data in k fold\n",
    "k_indices = build_k_indices(y_train_i, k_fold, seed)\n",
    "# define lists to store the accuracy of training data and validation data\n",
    "acc_tr_list = []\n",
    "acc_te_list = []\n",
    "# cross validation\n",
    "for degree in degrees:\n",
    "    acc_tr_tmp = []\n",
    "    acc_te_tmp = []\n",
    "    for k in range(k_fold):\n",
    "        acc_tr, acc_te = cross_validation(y_train_i, x_train_i, k_indices, k, lambda_, degree)\n",
    "        acc_tr_tmp.append(acc_tr)\n",
    "        acc_te_tmp.append(acc_te)\n",
    "    print(degree, np.mean(acc_tr_tmp), np.mean(acc_te_tmp))\n",
    "    \n",
    "    acc_tr_list.append(np.mean(acc_tr_tmp))\n",
    "    acc_te_list.append(np.mean(acc_te_tmp))"
   ]
  },
  {
   "cell_type": "code",
   "execution_count": 144,
   "metadata": {
    "scrolled": true
   },
   "outputs": [
    {
     "name": "stdout",
     "output_type": "stream",
     "text": [
      "0 0.7659256961676316 0.7611662531017369\n",
      "1e-07 0.8500827129859388 0.8440860215053764\n",
      "1e-06 0.8501998897160187 0.8446512269092914\n",
      "1e-05 0.8502481389578165 0.8445409429280396\n",
      "0.0001 0.8501516404742212 0.8451888613178935\n",
      "0.001 0.8496967190515579 0.8451475048249242\n",
      "0.01 0.8476943755169563 0.8427901847256687\n"
     ]
    }
   ],
   "source": [
    "# LAMBDA\n",
    "degree = 17\n",
    "k_fold = 5\n",
    "lambdas = [0, 1e-7, 1e-6, 1e-5, 1e-4, 1e-3, 1e-2]\n",
    "# split data in k fold\n",
    "k_indices = build_k_indices(y_train_i, k_fold, seed)\n",
    "# define lists to store the accuracy of training data and validation data\n",
    "acc_tr_list = []\n",
    "acc_te_list = []\n",
    "# cross validation\n",
    "for lambda_ in lambdas:\n",
    "    acc_tr_tmp = []\n",
    "    acc_te_tmp = []\n",
    "    for k in range(k_fold):\n",
    "        acc_tr, acc_te = cross_validation(y_train_i, x_train_i, k_indices, k, lambda_, degree)\n",
    "        acc_tr_tmp.append(acc_tr)\n",
    "        acc_te_tmp.append(acc_te)\n",
    "    print(lambda_, np.mean(acc_tr_tmp), np.mean(acc_te_tmp))\n",
    "    \n",
    "    acc_tr_list.append(np.mean(acc_tr_tmp))\n",
    "    acc_te_list.append(np.mean(acc_te_tmp))"
   ]
  },
  {
   "cell_type": "markdown",
   "metadata": {},
   "source": [
    "# Predict"
   ]
  },
  {
   "cell_type": "code",
   "execution_count": 145,
   "metadata": {},
   "outputs": [
    {
     "name": "stderr",
     "output_type": "stream",
     "text": [
      "C:\\Users\\tsun1\\AppData\\Local\\Continuum\\anaconda3\\lib\\site-packages\\numpy\\lib\\nanfunctions.py:1434: RuntimeWarning: Degrees of freedom <= 0 for slice.\n",
      "  keepdims=keepdims)\n"
     ]
    }
   ],
   "source": [
    "lambdas = [1e-6, 1e-4, 1e-4]\n",
    "degrees = [15, 19, 17]\n",
    "y_pred_train = np.zeros_like(y_train)\n",
    "y_pred_test = np.zeros_like(y_test)\n",
    "for i in range(3):\n",
    "    lambda_ = lambdas[i]\n",
    "    degree = degrees[i]\n",
    "    train_index = jet_index_train[i]\n",
    "    test_index = jet_index_test[i]\n",
    "    x_tr = x_train[train_index]\n",
    "    y_tr = y_train[train_index]\n",
    "    x_te = x_test[test_index]\n",
    "    y_te = y_test[test_index]\n",
    "    \n",
    "    x_tr, x_te = preprocessing(x_tr, x_te)\n",
    "    y_pred_train[train_index], y_pred_test[test_index] = train_predict(x_tr, y_tr, x_te, y_te, degree, lambda_)"
   ]
  },
  {
   "cell_type": "code",
   "execution_count": 146,
   "metadata": {},
   "outputs": [
    {
     "data": {
      "text/plain": [
       "0.83878"
      ]
     },
     "execution_count": 146,
     "metadata": {},
     "output_type": "execute_result"
    }
   ],
   "source": [
    "accuracy(y_train, y_pred_train)"
   ]
  },
  {
   "cell_type": "code",
   "execution_count": 147,
   "metadata": {},
   "outputs": [],
   "source": [
    "create_csv_submission(id_test, y_pred_test, \"OCT25\")"
   ]
  },
  {
   "cell_type": "code",
   "execution_count": null,
   "metadata": {},
   "outputs": [],
   "source": []
  }
 ],
 "metadata": {
  "kernelspec": {
   "display_name": "Python 3",
   "language": "python",
   "name": "python3"
  },
  "language_info": {
   "codemirror_mode": {
    "name": "ipython",
    "version": 3
   },
   "file_extension": ".py",
   "mimetype": "text/x-python",
   "name": "python",
   "nbconvert_exporter": "python",
   "pygments_lexer": "ipython3",
   "version": "3.6.5"
  }
 },
 "nbformat": 4,
 "nbformat_minor": 2
}
