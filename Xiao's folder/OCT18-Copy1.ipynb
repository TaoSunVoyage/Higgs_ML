{
 "cells": [
  {
   "cell_type": "code",
   "execution_count": 82,
   "metadata": {},
   "outputs": [
    {
     "name": "stdout",
     "output_type": "stream",
     "text": [
      "The autoreload extension is already loaded. To reload it, use:\n",
      "  %reload_ext autoreload\n"
     ]
    }
   ],
   "source": [
    "# Useful starting lines\n",
    "%matplotlib inline\n",
    "import numpy as np\n",
    "import matplotlib.pyplot as plt\n",
    "%load_ext autoreload\n",
    "%autoreload 2"
   ]
  },
  {
   "cell_type": "code",
   "execution_count": 83,
   "metadata": {},
   "outputs": [],
   "source": [
    "from proj1_helpers import *\n",
    "from implementations import *"
   ]
  },
  {
   "cell_type": "code",
   "execution_count": 84,
   "metadata": {},
   "outputs": [],
   "source": [
    "def standardize(x, mean_x=None, std_x=None):\n",
    "    \"\"\"Standardize the original data set.\"\"\"\n",
    "    if mean_x is None:\n",
    "        mean_x = np.nanmean(x, axis=0)\n",
    "    if std_x is None:\n",
    "        std_x = np.nanstd(x, axis=0)\n",
    "    x = x - mean_x\n",
    "    x = x / std_x\n",
    "    return x, mean_x, std_x\n",
    "\n",
    "def build_poly(x, degree):\n",
    "    \"\"\"polynomial basis functions for input data x, for j=0 up to j=degree.\"\"\"\n",
    "    poly = np.ones((len(x), 1))\n",
    "    for deg in range(1, degree+1):\n",
    "        poly = np.c_[poly, np.power(x, deg)]\n",
    "    return poly\n",
    "\n",
    "def split_data(x, y, ratio, myseed=1):\n",
    "    \"\"\"split the dataset based on the split ratio.\"\"\"\n",
    "    # set seed\n",
    "    np.random.seed(myseed)\n",
    "    # generate random indices\n",
    "    num_row = len(y)\n",
    "    indices = np.random.permutation(num_row)\n",
    "    index_split = int(np.floor(ratio * num_row))\n",
    "    index_tr = indices[: index_split]\n",
    "    index_te = indices[index_split:]\n",
    "    # create split\n",
    "    x_tr = x[index_tr]\n",
    "    x_te = x[index_te]\n",
    "    y_tr = y[index_tr]\n",
    "    y_te = y[index_te]\n",
    "    return x_tr, x_te, y_tr, y_te"
   ]
  },
  {
   "cell_type": "code",
   "execution_count": 85,
   "metadata": {},
   "outputs": [],
   "source": [
    "def accuracy(y_pred, y_true):\n",
    "    return (y_pred == y_true).sum()/len(y_true)"
   ]
  },
  {
   "cell_type": "code",
   "execution_count": 86,
   "metadata": {},
   "outputs": [],
   "source": [
    "# data path\n",
    "train_data_path = \"train.csv\"\n",
    "test_data_path = \"test.csv\"\n",
    "\n",
    "# load training and test set\n",
    "y_train_data, x_train_data, id_train_data = load_csv_data(train_data_path)\n",
    "y_test_data, x_test_data, id_test_data = load_csv_data(test_data_path)"
   ]
  },
  {
   "cell_type": "code",
   "execution_count": 87,
   "metadata": {},
   "outputs": [],
   "source": [
    "long_tail = [0, 1, 2, 3, 5, 8, 9, 10, 13, 16, 19, 21, 23, 26, 29]"
   ]
  },
  {
   "cell_type": "code",
   "execution_count": 88,
   "metadata": {},
   "outputs": [],
   "source": [
    "jet0_drop = [4, 5, 6, 12, 22, 23, 24, 25, 26, 27, 28, 29]\n",
    "jet1_drop = [4, 5, 6, 12, 22, 26, 27, 28]\n",
    "jet2_drop = [22]\n",
    "jet3_drop = [22]"
   ]
  },
  {
   "cell_type": "code",
   "execution_count": 89,
   "metadata": {},
   "outputs": [],
   "source": [
    "jet0_index = np.where(x_train_data[:,22]==0)[0]\n",
    "jet1_index = np.where(x_train_data[:,22]==1)[0]\n",
    "jet2_index = np.where(x_train_data[:,22]==2)[0]\n",
    "jet3_index = np.where(x_train_data[:,22]==3)[0]"
   ]
  },
  {
   "cell_type": "code",
   "execution_count": 90,
   "metadata": {},
   "outputs": [],
   "source": [
    "x_train_data[x_train_data==-999] = np.nan"
   ]
  },
  {
   "cell_type": "code",
   "execution_count": 91,
   "metadata": {},
   "outputs": [
    {
     "name": "stderr",
     "output_type": "stream",
     "text": [
      "D:\\python\\lib\\site-packages\\ipykernel_launcher.py:1: RuntimeWarning: invalid value encountered in log1p\n",
      "  \"\"\"Entry point for launching an IPython kernel.\n"
     ]
    }
   ],
   "source": [
    "x_train_data[:, long_tail] = np.log1p(x_train_data[:, long_tail])"
   ]
  },
  {
   "cell_type": "code",
   "execution_count": 92,
   "metadata": {},
   "outputs": [],
   "source": [
    "mean = np.nanmean(x_train_data, 0)\n",
    "std = np.nanstd(x_train_data, 0)"
   ]
  },
  {
   "cell_type": "code",
   "execution_count": 93,
   "metadata": {},
   "outputs": [],
   "source": [
    "x_train_data -= mean\n",
    "x_train_data /= std"
   ]
  },
  {
   "cell_type": "code",
   "execution_count": 94,
   "metadata": {},
   "outputs": [],
   "source": [
    "x_train_data = np.nan_to_num(x_train_data)"
   ]
  },
  {
   "cell_type": "code",
   "execution_count": 96,
   "metadata": {},
   "outputs": [],
   "source": [
    "x_jet0 = np.delete(x_train_data[jet0_index, :], jet0_drop, axis=1)\n",
    "x_jet1 = np.delete(x_train_data[jet1_index, :], jet1_drop, axis=1)\n",
    "x_jet2 = np.delete(x_train_data[jet2_index, :], jet2_drop, axis=1)\n",
    "x_jet3 = np.delete(x_train_data[jet3_index, :], jet3_drop, axis=1)"
   ]
  },
  {
   "cell_type": "code",
   "execution_count": 97,
   "metadata": {},
   "outputs": [
    {
     "data": {
      "text/plain": [
       "((99913, 18), (77544, 22), (50379, 29), (22164, 29))"
      ]
     },
     "execution_count": 97,
     "metadata": {},
     "output_type": "execute_result"
    }
   ],
   "source": [
    "x_jet0.shape, x_jet1.shape, x_jet2.shape, x_jet3.shape"
   ]
  },
  {
   "cell_type": "code",
   "execution_count": 98,
   "metadata": {},
   "outputs": [],
   "source": [
    "y_jet0 = y_train_data[jet0_index]\n",
    "y_jet1 = y_train_data[jet1_index]\n",
    "y_jet2 = y_train_data[jet2_index]\n",
    "y_jet3 = y_train_data[jet3_index]"
   ]
  },
  {
   "cell_type": "code",
   "execution_count": 99,
   "metadata": {},
   "outputs": [],
   "source": [
    "def build_poly(x, degree):\n",
    "    \"\"\"polynomial basis functions for input data x, for j=0 up to j=degree.\"\"\"\n",
    "    poly = np.ones((len(x), 1))\n",
    "    for deg in range(1, degree+1):\n",
    "        poly = np.c_[poly, np.power(x, deg)]\n",
    "    return poly"
   ]
  },
  {
   "cell_type": "code",
   "execution_count": 100,
   "metadata": {},
   "outputs": [],
   "source": [
    "# normalizatio after build ploy might be needed!\n",
    "tx_jet0 = build_poly(x_jet0, 15)\n",
    "tx_jet1 = build_poly(x_jet1, 15)\n",
    "tx_jet2 = build_poly(x_jet2, 15)\n",
    "tx_jet3 = build_poly(x_jet3, 15)"
   ]
  },
  {
   "cell_type": "markdown",
   "metadata": {},
   "source": [
    "# Least Squares GD"
   ]
  },
  {
   "cell_type": "code",
   "execution_count": 183,
   "metadata": {},
   "outputs": [
    {
     "ename": "MemoryError",
     "evalue": "",
     "output_type": "error",
     "traceback": [
      "\u001b[1;31m---------------------------------------------------------------------------\u001b[0m",
      "\u001b[1;31mMemoryError\u001b[0m                               Traceback (most recent call last)",
      "\u001b[1;32m<ipython-input-183-320be228638d>\u001b[0m in \u001b[0;36m<module>\u001b[1;34m()\u001b[0m\n\u001b[0;32m      9\u001b[0m \u001b[0minitial_w_jet2\u001b[0m\u001b[1;33m=\u001b[0m\u001b[0mnp\u001b[0m\u001b[1;33m.\u001b[0m\u001b[0mzeros\u001b[0m\u001b[1;33m(\u001b[0m\u001b[1;33m(\u001b[0m\u001b[0mtx_jet2\u001b[0m\u001b[1;33m.\u001b[0m\u001b[0mshape\u001b[0m\u001b[1;33m[\u001b[0m\u001b[1;36m1\u001b[0m\u001b[1;33m]\u001b[0m\u001b[1;33m,\u001b[0m \u001b[1;36m1\u001b[0m\u001b[1;33m)\u001b[0m\u001b[1;33m)\u001b[0m\u001b[1;33m\u001b[0m\u001b[0m\n\u001b[0;32m     10\u001b[0m \u001b[0minitial_w_jet3\u001b[0m\u001b[1;33m=\u001b[0m\u001b[0mnp\u001b[0m\u001b[1;33m.\u001b[0m\u001b[0mzeros\u001b[0m\u001b[1;33m(\u001b[0m\u001b[1;33m(\u001b[0m\u001b[0mtx_jet3\u001b[0m\u001b[1;33m.\u001b[0m\u001b[0mshape\u001b[0m\u001b[1;33m[\u001b[0m\u001b[1;36m1\u001b[0m\u001b[1;33m]\u001b[0m\u001b[1;33m,\u001b[0m \u001b[1;36m1\u001b[0m\u001b[1;33m)\u001b[0m\u001b[1;33m)\u001b[0m\u001b[1;33m\u001b[0m\u001b[0m\n\u001b[1;32m---> 11\u001b[1;33m \u001b[0mw_jet0\u001b[0m\u001b[1;33m,\u001b[0m \u001b[0m_\u001b[0m \u001b[1;33m=\u001b[0m \u001b[0mleast_squares_GD\u001b[0m\u001b[1;33m(\u001b[0m\u001b[0my_jet0\u001b[0m\u001b[1;33m,\u001b[0m \u001b[0mtx_jet0\u001b[0m\u001b[1;33m,\u001b[0m \u001b[0minitial_w_jet0\u001b[0m\u001b[1;33m,\u001b[0m \u001b[0mmax_iters\u001b[0m\u001b[1;33m,\u001b[0m \u001b[0mgamma\u001b[0m\u001b[1;33m)\u001b[0m\u001b[1;33m\u001b[0m\u001b[0m\n\u001b[0m\u001b[0;32m     12\u001b[0m \u001b[0mw_jet1\u001b[0m\u001b[1;33m,\u001b[0m \u001b[0m_\u001b[0m \u001b[1;33m=\u001b[0m \u001b[0mleast_squares_GD\u001b[0m\u001b[1;33m(\u001b[0m\u001b[0my_jet1\u001b[0m\u001b[1;33m,\u001b[0m \u001b[0mtx_jet1\u001b[0m\u001b[1;33m,\u001b[0m \u001b[0minitial_w_jet1\u001b[0m\u001b[1;33m,\u001b[0m \u001b[0mmax_iters\u001b[0m\u001b[1;33m,\u001b[0m \u001b[0mgamma\u001b[0m\u001b[1;33m)\u001b[0m\u001b[1;33m\u001b[0m\u001b[0m\n\u001b[0;32m     13\u001b[0m \u001b[0mw_jet2\u001b[0m\u001b[1;33m,\u001b[0m \u001b[0m_\u001b[0m \u001b[1;33m=\u001b[0m \u001b[0mleast_squares_GD\u001b[0m\u001b[1;33m(\u001b[0m\u001b[0my_jet2\u001b[0m\u001b[1;33m,\u001b[0m \u001b[0mtx_jet2\u001b[0m\u001b[1;33m,\u001b[0m \u001b[0minitial_w_jet2\u001b[0m\u001b[1;33m,\u001b[0m \u001b[0mmax_iters\u001b[0m\u001b[1;33m,\u001b[0m \u001b[0mgamma\u001b[0m\u001b[1;33m)\u001b[0m\u001b[1;33m\u001b[0m\u001b[0m\n",
      "\u001b[1;32m~\\ml_project_1\\implementations.py\u001b[0m in \u001b[0;36mleast_squares_GD\u001b[1;34m(y, tx, initial_w, max_iters, gamma)\u001b[0m\n\u001b[0;32m     51\u001b[0m     \u001b[1;32mfor\u001b[0m \u001b[0mn_iter\u001b[0m \u001b[1;32min\u001b[0m \u001b[0mrange\u001b[0m\u001b[1;33m(\u001b[0m\u001b[0mmax_iters\u001b[0m\u001b[1;33m)\u001b[0m\u001b[1;33m:\u001b[0m\u001b[1;33m\u001b[0m\u001b[0m\n\u001b[0;32m     52\u001b[0m         \u001b[1;31m# compute gradient\u001b[0m\u001b[1;33m\u001b[0m\u001b[1;33m\u001b[0m\u001b[0m\n\u001b[1;32m---> 53\u001b[1;33m         \u001b[0mgrad\u001b[0m \u001b[1;33m=\u001b[0m \u001b[0mcompute_gradient_linear\u001b[0m\u001b[1;33m(\u001b[0m\u001b[0my\u001b[0m\u001b[1;33m,\u001b[0m \u001b[0mtx\u001b[0m\u001b[1;33m,\u001b[0m \u001b[0mw\u001b[0m\u001b[1;33m)\u001b[0m\u001b[1;33m\u001b[0m\u001b[0m\n\u001b[0m\u001b[0;32m     54\u001b[0m         \u001b[1;31m# update w by gradient descent update\u001b[0m\u001b[1;33m\u001b[0m\u001b[1;33m\u001b[0m\u001b[0m\n\u001b[0;32m     55\u001b[0m         \u001b[0mw\u001b[0m \u001b[1;33m=\u001b[0m \u001b[0mw\u001b[0m \u001b[1;33m-\u001b[0m \u001b[0mgamma\u001b[0m \u001b[1;33m*\u001b[0m \u001b[0mgrad\u001b[0m\u001b[1;33m\u001b[0m\u001b[0m\n",
      "\u001b[1;32m~\\ml_project_1\\implementations.py\u001b[0m in \u001b[0;36mcompute_gradient_linear\u001b[1;34m(y, tx, w)\u001b[0m\n\u001b[0;32m     39\u001b[0m \u001b[1;32mdef\u001b[0m \u001b[0mcompute_gradient_linear\u001b[0m\u001b[1;33m(\u001b[0m\u001b[0my\u001b[0m\u001b[1;33m,\u001b[0m \u001b[0mtx\u001b[0m\u001b[1;33m,\u001b[0m \u001b[0mw\u001b[0m\u001b[1;33m)\u001b[0m\u001b[1;33m:\u001b[0m\u001b[1;33m\u001b[0m\u001b[0m\n\u001b[0;32m     40\u001b[0m     \u001b[1;34m\"\"\"Compute the gradient of linear regression.\"\"\"\u001b[0m\u001b[1;33m\u001b[0m\u001b[0m\n\u001b[1;32m---> 41\u001b[1;33m     \u001b[0merr\u001b[0m \u001b[1;33m=\u001b[0m \u001b[0my\u001b[0m \u001b[1;33m-\u001b[0m \u001b[0mtx\u001b[0m\u001b[1;33m.\u001b[0m\u001b[0mdot\u001b[0m\u001b[1;33m(\u001b[0m\u001b[0mw\u001b[0m\u001b[1;33m)\u001b[0m\u001b[1;33m\u001b[0m\u001b[0m\n\u001b[0m\u001b[0;32m     42\u001b[0m     \u001b[0mgrad\u001b[0m \u001b[1;33m=\u001b[0m \u001b[1;33m-\u001b[0m\u001b[0mtx\u001b[0m\u001b[1;33m.\u001b[0m\u001b[0mT\u001b[0m\u001b[1;33m.\u001b[0m\u001b[0mdot\u001b[0m\u001b[1;33m(\u001b[0m\u001b[0merr\u001b[0m\u001b[1;33m)\u001b[0m \u001b[1;33m/\u001b[0m \u001b[0mlen\u001b[0m\u001b[1;33m(\u001b[0m\u001b[0merr\u001b[0m\u001b[1;33m)\u001b[0m\u001b[1;33m\u001b[0m\u001b[0m\n\u001b[0;32m     43\u001b[0m     \u001b[1;32mreturn\u001b[0m \u001b[0mgrad\u001b[0m\u001b[1;33m\u001b[0m\u001b[0m\n",
      "\u001b[1;31mMemoryError\u001b[0m: "
     ]
    }
   ],
   "source": [
    "tx_jet0 = build_poly(x_jet0, 10)\n",
    "tx_jet1 = build_poly(x_jet1, 10)\n",
    "tx_jet2 = build_poly(x_jet2, 10)\n",
    "tx_jet3 = build_poly(x_jet3, 10)\n",
    "gamma=0.01\n",
    "max_iters=100\n",
    "initial_w_jet0=np.zeros((tx_jet0.shape[1], 1))\n",
    "initial_w_jet1=np.zeros((tx_jet1.shape[1], 1))\n",
    "initial_w_jet2=np.zeros((tx_jet2.shape[1], 1))\n",
    "initial_w_jet3=np.zeros((tx_jet3.shape[1], 1))\n",
    "w_jet0, _ = least_squares_GD(y_jet0, tx_jet0, initial_w_jet0, max_iters, gamma)\n",
    "w_jet1, _ = least_squares_GD(y_jet1, tx_jet1, initial_w_jet1, max_iters, gamma)\n",
    "w_jet2, _ = least_squares_GD(y_jet2, tx_jet2, initial_w_jet2, max_iters, gamma)\n",
    "w_jet3, _ = least_squares_GD(y_jet3, tx_jet3, initial_w_jet3, max_iters, gamma)"
   ]
  },
  {
   "cell_type": "code",
   "execution_count": null,
   "metadata": {},
   "outputs": [],
   "source": [
    "y_pred = np.zeros_like(y_train_data)\n",
    "y_pred[jet0_index] = predict_labels(w_jet0, tx_jet0)\n",
    "y_pred[jet1_index] = predict_labels(w_jet1, tx_jet1)\n",
    "y_pred[jet2_index] = predict_labels(w_jet2, tx_jet2)\n",
    "y_pred[jet3_index] = predict_labels(w_jet3, tx_jet3)"
   ]
  },
  {
   "cell_type": "code",
   "execution_count": null,
   "metadata": {},
   "outputs": [],
   "source": [
    "accuracy(y_pred, y_train_data)"
   ]
  },
  {
   "cell_type": "markdown",
   "metadata": {},
   "source": [
    "# Least Squares SGD"
   ]
  },
  {
   "cell_type": "code",
   "execution_count": 184,
   "metadata": {},
   "outputs": [
    {
     "ename": "MemoryError",
     "evalue": "",
     "output_type": "error",
     "traceback": [
      "\u001b[1;31m---------------------------------------------------------------------------\u001b[0m",
      "\u001b[1;31mMemoryError\u001b[0m                               Traceback (most recent call last)",
      "\u001b[1;32m<ipython-input-184-c85ec612c4e3>\u001b[0m in \u001b[0;36m<module>\u001b[1;34m()\u001b[0m\n\u001b[0;32m      9\u001b[0m \u001b[0minitial_w_jet2\u001b[0m\u001b[1;33m=\u001b[0m\u001b[0mnp\u001b[0m\u001b[1;33m.\u001b[0m\u001b[0mzeros\u001b[0m\u001b[1;33m(\u001b[0m\u001b[1;33m(\u001b[0m\u001b[0mtx_jet2\u001b[0m\u001b[1;33m.\u001b[0m\u001b[0mshape\u001b[0m\u001b[1;33m[\u001b[0m\u001b[1;36m1\u001b[0m\u001b[1;33m]\u001b[0m\u001b[1;33m,\u001b[0m \u001b[1;36m1\u001b[0m\u001b[1;33m)\u001b[0m\u001b[1;33m)\u001b[0m\u001b[1;33m\u001b[0m\u001b[0m\n\u001b[0;32m     10\u001b[0m \u001b[0minitial_w_jet3\u001b[0m\u001b[1;33m=\u001b[0m\u001b[0mnp\u001b[0m\u001b[1;33m.\u001b[0m\u001b[0mzeros\u001b[0m\u001b[1;33m(\u001b[0m\u001b[1;33m(\u001b[0m\u001b[0mtx_jet3\u001b[0m\u001b[1;33m.\u001b[0m\u001b[0mshape\u001b[0m\u001b[1;33m[\u001b[0m\u001b[1;36m1\u001b[0m\u001b[1;33m]\u001b[0m\u001b[1;33m,\u001b[0m \u001b[1;36m1\u001b[0m\u001b[1;33m)\u001b[0m\u001b[1;33m)\u001b[0m\u001b[1;33m\u001b[0m\u001b[0m\n\u001b[1;32m---> 11\u001b[1;33m \u001b[0mw_jet0\u001b[0m\u001b[1;33m,\u001b[0m \u001b[0m_\u001b[0m \u001b[1;33m=\u001b[0m \u001b[0mleast_squares_SGD\u001b[0m\u001b[1;33m(\u001b[0m\u001b[0my_jet0\u001b[0m\u001b[1;33m,\u001b[0m \u001b[0mtx_jet0\u001b[0m\u001b[1;33m,\u001b[0m \u001b[0minitial_w_jet0\u001b[0m\u001b[1;33m,\u001b[0m \u001b[0mmax_iters\u001b[0m\u001b[1;33m,\u001b[0m \u001b[0mgamma\u001b[0m\u001b[1;33m)\u001b[0m\u001b[1;33m\u001b[0m\u001b[0m\n\u001b[0m\u001b[0;32m     12\u001b[0m \u001b[0mw_jet1\u001b[0m\u001b[1;33m,\u001b[0m \u001b[0m_\u001b[0m \u001b[1;33m=\u001b[0m \u001b[0mleast_squares_SGD\u001b[0m\u001b[1;33m(\u001b[0m\u001b[0my_jet1\u001b[0m\u001b[1;33m,\u001b[0m \u001b[0mtx_jet1\u001b[0m\u001b[1;33m,\u001b[0m \u001b[0minitial_w_jet1\u001b[0m\u001b[1;33m,\u001b[0m \u001b[0mmax_iters\u001b[0m\u001b[1;33m,\u001b[0m \u001b[0mgamma\u001b[0m\u001b[1;33m)\u001b[0m\u001b[1;33m\u001b[0m\u001b[0m\n\u001b[0;32m     13\u001b[0m \u001b[0mw_jet2\u001b[0m\u001b[1;33m,\u001b[0m \u001b[0m_\u001b[0m \u001b[1;33m=\u001b[0m \u001b[0mleast_squares_SGD\u001b[0m\u001b[1;33m(\u001b[0m\u001b[0my_jet2\u001b[0m\u001b[1;33m,\u001b[0m \u001b[0mtx_jet2\u001b[0m\u001b[1;33m,\u001b[0m \u001b[0minitial_w_jet2\u001b[0m\u001b[1;33m,\u001b[0m \u001b[0mmax_iters\u001b[0m\u001b[1;33m,\u001b[0m \u001b[0mgamma\u001b[0m\u001b[1;33m)\u001b[0m\u001b[1;33m\u001b[0m\u001b[0m\n",
      "\u001b[1;32m~\\ml_project_1\\implementations.py\u001b[0m in \u001b[0;36mleast_squares_SGD\u001b[1;34m(y, tx, initial_w, max_iters, gamma)\u001b[0m\n\u001b[0;32m     74\u001b[0m \u001b[1;33m\u001b[0m\u001b[0m\n\u001b[0;32m     75\u001b[0m     \u001b[1;31m# calculate loss\u001b[0m\u001b[1;33m\u001b[0m\u001b[1;33m\u001b[0m\u001b[0m\n\u001b[1;32m---> 76\u001b[1;33m     \u001b[0mloss\u001b[0m \u001b[1;33m=\u001b[0m \u001b[0mcompute_mse_loss\u001b[0m\u001b[1;33m(\u001b[0m\u001b[0my\u001b[0m\u001b[1;33m,\u001b[0m \u001b[0mtx\u001b[0m\u001b[1;33m,\u001b[0m \u001b[0mw\u001b[0m\u001b[1;33m)\u001b[0m\u001b[1;33m\u001b[0m\u001b[0m\n\u001b[0m\u001b[0;32m     77\u001b[0m \u001b[1;33m\u001b[0m\u001b[0m\n\u001b[0;32m     78\u001b[0m     \u001b[1;32mreturn\u001b[0m \u001b[0mw\u001b[0m\u001b[1;33m,\u001b[0m \u001b[0mloss\u001b[0m\u001b[1;33m\u001b[0m\u001b[0m\n",
      "\u001b[1;32m~\\ml_project_1\\implementations.py\u001b[0m in \u001b[0;36mcompute_mse_loss\u001b[1;34m(y, tx, w)\u001b[0m\n\u001b[0;32m     33\u001b[0m \u001b[1;32mdef\u001b[0m \u001b[0mcompute_mse_loss\u001b[0m\u001b[1;33m(\u001b[0m\u001b[0my\u001b[0m\u001b[1;33m,\u001b[0m \u001b[0mtx\u001b[0m\u001b[1;33m,\u001b[0m \u001b[0mw\u001b[0m\u001b[1;33m)\u001b[0m\u001b[1;33m:\u001b[0m\u001b[1;33m\u001b[0m\u001b[0m\n\u001b[0;32m     34\u001b[0m     \u001b[1;34m\"\"\"Calculate mse loss.\"\"\"\u001b[0m\u001b[1;33m\u001b[0m\u001b[0m\n\u001b[1;32m---> 35\u001b[1;33m     \u001b[0me\u001b[0m \u001b[1;33m=\u001b[0m \u001b[0my\u001b[0m \u001b[1;33m-\u001b[0m \u001b[0mtx\u001b[0m\u001b[1;33m.\u001b[0m\u001b[0mdot\u001b[0m\u001b[1;33m(\u001b[0m\u001b[0mw\u001b[0m\u001b[1;33m)\u001b[0m\u001b[1;33m\u001b[0m\u001b[0m\n\u001b[0m\u001b[0;32m     36\u001b[0m     \u001b[1;32mreturn\u001b[0m \u001b[1;36m1\u001b[0m\u001b[1;33m/\u001b[0m\u001b[1;36m2\u001b[0m \u001b[1;33m*\u001b[0m \u001b[0mnp\u001b[0m\u001b[1;33m.\u001b[0m\u001b[0mmean\u001b[0m\u001b[1;33m(\u001b[0m\u001b[0me\u001b[0m\u001b[1;33m**\u001b[0m\u001b[1;36m2\u001b[0m\u001b[1;33m)\u001b[0m\u001b[1;33m\u001b[0m\u001b[0m\n\u001b[0;32m     37\u001b[0m \u001b[1;33m\u001b[0m\u001b[0m\n",
      "\u001b[1;31mMemoryError\u001b[0m: "
     ]
    }
   ],
   "source": [
    "tx_jet0 = build_poly(x_jet0, 1)\n",
    "tx_jet1 = build_poly(x_jet1, 1)\n",
    "tx_jet2 = build_poly(x_jet2, 1)\n",
    "tx_jet3 = build_poly(x_jet3, 1)\n",
    "gamma=0.01\n",
    "max_iters=10\n",
    "initial_w_jet0=np.zeros((tx_jet0.shape[1], 1))\n",
    "initial_w_jet1=np.zeros((tx_jet1.shape[1], 1))\n",
    "initial_w_jet2=np.zeros((tx_jet2.shape[1], 1))\n",
    "initial_w_jet3=np.zeros((tx_jet3.shape[1], 1))\n",
    "w_jet0, _ = least_squares_SGD(y_jet0, tx_jet0, initial_w_jet0, max_iters, gamma)\n",
    "w_jet1, _ = least_squares_SGD(y_jet1, tx_jet1, initial_w_jet1, max_iters, gamma)\n",
    "w_jet2, _ = least_squares_SGD(y_jet2, tx_jet2, initial_w_jet2, max_iters, gamma)\n",
    "w_jet3, _ = least_squares_SGD(y_jet3, tx_jet3, initial_w_jet3, max_iters, gamma)"
   ]
  },
  {
   "cell_type": "code",
   "execution_count": null,
   "metadata": {},
   "outputs": [],
   "source": [
    "y_pred = np.zeros_like(y_train_data)\n",
    "y_pred[jet0_index] = predict_labels(w_jet0, tx_jet0)\n",
    "y_pred[jet1_index] = predict_labels(w_jet1, tx_jet1)\n",
    "y_pred[jet2_index] = predict_labels(w_jet2, tx_jet2)\n",
    "y_pred[jet3_index] = predict_labels(w_jet3, tx_jet3)\n",
    "accuracy(y_pred, y_train_data)"
   ]
  },
  {
   "cell_type": "markdown",
   "metadata": {},
   "source": [
    "# Least Squares"
   ]
  },
  {
   "cell_type": "code",
   "execution_count": 179,
   "metadata": {},
   "outputs": [],
   "source": [
    "tx_jet0 = build_poly(x_jet0, 15)\n",
    "tx_jet1 = build_poly(x_jet1, 15)\n",
    "tx_jet2 = build_poly(x_jet2, 15)\n",
    "tx_jet3 = build_poly(x_jet3, 15)\n",
    "w_jet0, _ = least_squares(y_jet0, tx_jet0)\n",
    "w_jet1, _ = least_squares(y_jet1, tx_jet1)\n",
    "w_jet2, _ = least_squares(y_jet2, tx_jet2)\n",
    "w_jet3, _ = least_squares(y_jet3, tx_jet3)"
   ]
  },
  {
   "cell_type": "code",
   "execution_count": 180,
   "metadata": {},
   "outputs": [
    {
     "data": {
      "text/plain": [
       "0.832992"
      ]
     },
     "execution_count": 180,
     "metadata": {},
     "output_type": "execute_result"
    }
   ],
   "source": [
    "y_pred = np.zeros_like(y_train_data)\n",
    "y_pred[jet0_index] = predict_labels(w_jet0, tx_jet0)\n",
    "y_pred[jet1_index] = predict_labels(w_jet1, tx_jet1)\n",
    "y_pred[jet2_index] = predict_labels(w_jet2, tx_jet2)\n",
    "y_pred[jet3_index] = predict_labels(w_jet3, tx_jet3)\n",
    "accuracy(y_pred, y_train_data)"
   ]
  },
  {
   "cell_type": "markdown",
   "metadata": {},
   "source": [
    "## Ridge Regression"
   ]
  },
  {
   "cell_type": "code",
   "execution_count": 150,
   "metadata": {},
   "outputs": [],
   "source": [
    "tx_jet0 = build_poly(x_jet0, 15)\n",
    "tx_jet1 = build_poly(x_jet1, 15)\n",
    "tx_jet2 = build_poly(x_jet2, 15)\n",
    "tx_jet3 = build_poly(x_jet3, 15)"
   ]
  },
  {
   "cell_type": "code",
   "execution_count": 151,
   "metadata": {},
   "outputs": [],
   "source": [
    "lambda_ = 0.001\n",
    "w_jet0, _ = ridge_regression(y_jet0, tx_jet0, lambda_)\n",
    "w_jet1, _ = ridge_regression(y_jet1, tx_jet1, lambda_)\n",
    "w_jet2, _ = ridge_regression(y_jet2, tx_jet2, lambda_)\n",
    "w_jet3, _ = ridge_regression(y_jet3, tx_jet3, lambda_)"
   ]
  },
  {
   "cell_type": "code",
   "execution_count": 152,
   "metadata": {},
   "outputs": [],
   "source": [
    "y_pred = np.zeros_like(y_train_data)\n",
    "y_pred[jet0_index] = predict_labels(w_jet0, tx_jet0)\n",
    "y_pred[jet1_index] = predict_labels(w_jet1, tx_jet1)\n",
    "y_pred[jet2_index] = predict_labels(w_jet2, tx_jet2)\n",
    "y_pred[jet3_index] = predict_labels(w_jet3, tx_jet3)"
   ]
  },
  {
   "cell_type": "code",
   "execution_count": 153,
   "metadata": {},
   "outputs": [
    {
     "data": {
      "text/plain": [
       "0.832848"
      ]
     },
     "execution_count": 153,
     "metadata": {},
     "output_type": "execute_result"
    }
   ],
   "source": [
    "accuracy(y_pred, y_train_data)"
   ]
  },
  {
   "cell_type": "markdown",
   "metadata": {},
   "source": [
    "# Logsitic Regression"
   ]
  },
  {
   "cell_type": "code",
   "execution_count": 171,
   "metadata": {},
   "outputs": [],
   "source": [
    "tx_jet0 = build_poly(x_jet0, 1)\n",
    "tx_jet1 = build_poly(x_jet1, 1)\n",
    "tx_jet2 = build_poly(x_jet2, 1)\n",
    "tx_jet3 = build_poly(x_jet3, 1)\n",
    "gamma=0.01\n",
    "max_iters=100\n",
    "initial_w_jet0=np.zeros((tx_jet0.shape[1], 1))\n",
    "initial_w_jet1=np.zeros((tx_jet1.shape[1], 1))\n",
    "initial_w_jet2=np.zeros((tx_jet2.shape[1], 1))\n",
    "initial_w_jet3=np.zeros((tx_jet3.shape[1], 1))\n",
    "w_jet0, _ = logistic_regression(y_jet0, tx_jet0, initial_w_jet0, max_iters, gamma)\n",
    "w_jet1, _ = logistic_regression(y_jet1, tx_jet1, initial_w_jet1, max_iters, gamma)\n",
    "w_jet2, _ = logistic_regression(y_jet2, tx_jet2, initial_w_jet2, max_iters, gamma)\n",
    "w_jet3, _ = logistic_regression(y_jet3, tx_jet3, initial_w_jet3, max_iters, gamma)"
   ]
  },
  {
   "cell_type": "code",
   "execution_count": 172,
   "metadata": {},
   "outputs": [
    {
     "data": {
      "text/plain": [
       "0.699192"
      ]
     },
     "execution_count": 172,
     "metadata": {},
     "output_type": "execute_result"
    }
   ],
   "source": [
    "y_pred = np.zeros_like(y_train_data)\n",
    "y_pred[jet0_index] = predict_labels(w_jet0, tx_jet0).reshape(y_pred[jet0_index].shape)\n",
    "y_pred[jet1_index] = predict_labels(w_jet1, tx_jet1).reshape(y_pred[jet1_index].shape)\n",
    "y_pred[jet2_index] = predict_labels(w_jet2, tx_jet2).reshape(y_pred[jet2_index].shape)\n",
    "y_pred[jet3_index] = predict_labels(w_jet3, tx_jet3).reshape(y_pred[jet3_index].shape)\n",
    "accuracy(y_pred, y_train_data)"
   ]
  },
  {
   "cell_type": "markdown",
   "metadata": {},
   "source": [
    "# Regularized Logistic Regression"
   ]
  },
  {
   "cell_type": "code",
   "execution_count": 167,
   "metadata": {},
   "outputs": [],
   "source": [
    "tx_jet0 = build_poly(x_jet0, 1)\n",
    "tx_jet1 = build_poly(x_jet1, 1)\n",
    "tx_jet2 = build_poly(x_jet2, 1)\n",
    "tx_jet3 = build_poly(x_jet3, 1)\n",
    "lambda_ = 0.001\n",
    "gamma=0.01\n",
    "max_iters=100\n",
    "initial_w_jet0=np.zeros((tx_jet0.shape[1], 1))\n",
    "initial_w_jet1=np.zeros((tx_jet1.shape[1], 1))\n",
    "initial_w_jet2=np.zeros((tx_jet2.shape[1], 1))\n",
    "initial_w_jet3=np.zeros((tx_jet3.shape[1], 1))\n",
    "w_jet0, _ = reg_logistic_regression(y_jet0, tx_jet0, lambda_, initial_w_jet0, max_iters, gamma)\n",
    "w_jet1, _ = reg_logistic_regression(y_jet1, tx_jet1, lambda_, initial_w_jet1, max_iters, gamma)\n",
    "w_jet2, _ = reg_logistic_regression(y_jet2, tx_jet2, lambda_, initial_w_jet2, max_iters, gamma)\n",
    "w_jet3, _ = reg_logistic_regression(y_jet3, tx_jet3, lambda_, initial_w_jet3, max_iters, gamma)"
   ]
  },
  {
   "cell_type": "code",
   "execution_count": 168,
   "metadata": {},
   "outputs": [
    {
     "data": {
      "text/plain": [
       "0.710252"
      ]
     },
     "execution_count": 168,
     "metadata": {},
     "output_type": "execute_result"
    }
   ],
   "source": [
    "y_pred = np.zeros_like(y_train_data)\n",
    "y_pred[jet0_index] = predict_labels(w_jet0, tx_jet0).reshape(y_pred[jet0_index].shape)\n",
    "y_pred[jet1_index] = predict_labels(w_jet1, tx_jet1).reshape(y_pred[jet1_index].shape)\n",
    "y_pred[jet2_index] = predict_labels(w_jet2, tx_jet2).reshape(y_pred[jet2_index].shape)\n",
    "y_pred[jet3_index] = predict_labels(w_jet3, tx_jet3).reshape(y_pred[jet3_index].shape)\n",
    "accuracy(y_pred, y_train_data)"
   ]
  },
  {
   "cell_type": "markdown",
   "metadata": {},
   "source": [
    "## Predict with Ridge Regression "
   ]
  },
  {
   "cell_type": "code",
   "execution_count": 40,
   "metadata": {},
   "outputs": [
    {
     "name": "stderr",
     "output_type": "stream",
     "text": [
      "D:\\python\\lib\\site-packages\\ipykernel_launcher.py:8: RuntimeWarning: invalid value encountered in log1p\n",
      "  \n"
     ]
    }
   ],
   "source": [
    "jet0_index = np.where(x_test_data[:,22]==0)[0]\n",
    "jet1_index = np.where(x_test_data[:,22]==1)[0]\n",
    "jet2_index = np.where(x_test_data[:,22]==2)[0]\n",
    "jet3_index = np.where(x_test_data[:,22]==3)[0]\n",
    "\n",
    "x_test_data[x_test_data==-999] = np.nan\n",
    "\n",
    "x_test_data[:, long_tail] = np.log1p(x_test_data[:, long_tail])\n",
    "\n",
    "x_test_data -= mean\n",
    "x_test_data /= std\n",
    "\n",
    "x_test_data = np.nan_to_num(x_test_data)\n",
    "\n",
    "x_jet0 = np.delete(x_test_data[jet0_index, :], jet0_drop, axis=1)\n",
    "x_jet1 = np.delete(x_test_data[jet1_index, :], jet1_drop, axis=1)\n",
    "x_jet2 = np.delete(x_test_data[jet2_index, :], jet2_drop, axis=1)\n",
    "x_jet3 = np.delete(x_test_data[jet3_index, :], jet3_drop, axis=1)\n",
    "\n",
    "tx_jet0 = build_poly(x_jet0, 15)\n",
    "tx_jet1 = build_poly(x_jet1, 15)\n",
    "tx_jet2 = build_poly(x_jet2, 15)\n",
    "tx_jet3 = build_poly(x_jet3, 15)\n",
    "w_jet0, _ = ridge_regression(y_jet0, tx_jet0, lambda_)\n",
    "w_jet1, _ = ridge_regression(y_jet1, tx_jet1, lambda_)\n",
    "w_jet2, _ = ridge_regression(y_jet2, tx_jet2, lambda_)\n",
    "w_jet3, _ = ridge_regression(y_jet3, tx_jet3, lambda_)\n",
    "y_pred = np.zeros(len(x_test_data))\n",
    "y_pred[jet0_index] = predict_labels(w_jet0, tx_jet0)\n",
    "y_pred[jet1_index] = predict_labels(w_jet1, tx_jet1)\n",
    "y_pred[jet2_index] = predict_labels(w_jet2, tx_jet2)\n",
    "y_pred[jet3_index] = predict_labels(w_jet3, tx_jet3)"
   ]
  },
  {
   "cell_type": "code",
   "execution_count": 41,
   "metadata": {},
   "outputs": [],
   "source": [
    "create_csv_submission(id_test_data, y_pred, \"OCT18\")"
   ]
  },
  {
   "cell_type": "code",
   "execution_count": null,
   "metadata": {},
   "outputs": [],
   "source": []
  }
 ],
 "metadata": {
  "kernelspec": {
   "display_name": "Python 3",
   "language": "python",
   "name": "python3"
  },
  "language_info": {
   "codemirror_mode": {
    "name": "ipython",
    "version": 3
   },
   "file_extension": ".py",
   "mimetype": "text/x-python",
   "name": "python",
   "nbconvert_exporter": "python",
   "pygments_lexer": "ipython3",
   "version": "3.6.5"
  }
 },
 "nbformat": 4,
 "nbformat_minor": 2
}
