{
 "cells": [
  {
   "cell_type": "code",
   "execution_count": 1,
   "metadata": {},
   "outputs": [],
   "source": [
    "import pandas as pd\n",
    "import numpy as np\n",
    "np.random.seed(1)\n",
    "\n",
    "import matplotlib.pyplot as plt\n",
    "%matplotlib inline\n",
    "\n",
    "from proj1_helpers import *\n",
    "from implementations import *\n",
    "from helpers import *\n",
    "\n",
    "%load_ext autoreload\n",
    "%autoreload 2"
   ]
  },
  {
   "cell_type": "code",
   "execution_count": 2,
   "metadata": {},
   "outputs": [],
   "source": [
    "# data path\n",
    "train_data_path = \"../data/train.csv\"\n",
    "test_data_path = \"../data/test.csv\"\n",
    "\n",
    "# load training and test set\n",
    "y_train_data, x_train_data, id_train_data = load_csv_data(train_data_path)\n",
    "y_test_data, x_test_data, id_test_data = load_csv_data(test_data_path)"
   ]
  },
  {
   "cell_type": "code",
   "execution_count": 3,
   "metadata": {},
   "outputs": [
    {
     "name": "stderr",
     "output_type": "stream",
     "text": [
      "/Users/suntao/Studying/ML_course/Higgs_ML/Tao‘s folder/helpers.py:21: RuntimeWarning: invalid value encountered in less\n",
      "  delta[delta < -np.pi] += 2 * np.pi\n",
      "/Users/suntao/Studying/ML_course/Higgs_ML/Tao‘s folder/helpers.py:22: RuntimeWarning: invalid value encountered in greater\n",
      "  delta[delta >  np.pi] -= 2 * np.pi\n"
     ]
    }
   ],
   "source": [
    "xy_train, mean_std = preprocessing(x_train_data, y_train_data)"
   ]
  },
  {
   "cell_type": "code",
   "execution_count": 4,
   "metadata": {},
   "outputs": [],
   "source": [
    "lambda_ = 0.001\n",
    "ws = []\n",
    "for x, y in xy_train:\n",
    "    tx = build_poly(x, 20)\n",
    "    w, _ = ridge_regression(y, tx, lambda_)\n",
    "    ws.append(w)"
   ]
  },
  {
   "cell_type": "code",
   "execution_count": 6,
   "metadata": {},
   "outputs": [
    {
     "name": "stderr",
     "output_type": "stream",
     "text": [
      "/Users/suntao/Studying/ML_course/Higgs_ML/Tao‘s folder/helpers.py:21: RuntimeWarning: invalid value encountered in less\n",
      "  delta[delta < -np.pi] += 2 * np.pi\n",
      "/Users/suntao/Studying/ML_course/Higgs_ML/Tao‘s folder/helpers.py:22: RuntimeWarning: invalid value encountered in greater\n",
      "  delta[delta >  np.pi] -= 2 * np.pi\n"
     ]
    }
   ],
   "source": [
    "x_test, index_test = preprocessing(x_test_data, y_test_data,\n",
    "                                    mean=mean_std[0], std=mean_std[1], test=True)"
   ]
  },
  {
   "cell_type": "code",
   "execution_count": 7,
   "metadata": {},
   "outputs": [],
   "source": [
    "y_pred = np.zeros(x_test_data.shape[0])\n",
    "for w, x in zip(ws, x_test):\n",
    "    tx = build_poly(x, 20)\n",
    "    y_pred[index] = predict_labels(w, tx)"
   ]
  },
  {
   "cell_type": "code",
   "execution_count": 9,
   "metadata": {},
   "outputs": [],
   "source": [
    "create_csv_submission(id_test_data, y_pred, \"OCT19\")"
   ]
  },
  {
   "cell_type": "code",
   "execution_count": null,
   "metadata": {},
   "outputs": [],
   "source": []
  },
  {
   "cell_type": "code",
   "execution_count": null,
   "metadata": {},
   "outputs": [],
   "source": []
  }
 ],
 "metadata": {
  "kernelspec": {
   "display_name": "Python 3",
   "language": "python",
   "name": "python3"
  },
  "language_info": {
   "codemirror_mode": {
    "name": "ipython",
    "version": 3
   },
   "file_extension": ".py",
   "mimetype": "text/x-python",
   "name": "python",
   "nbconvert_exporter": "python",
   "pygments_lexer": "ipython3",
   "version": "3.6.4"
  }
 },
 "nbformat": 4,
 "nbformat_minor": 2
}
